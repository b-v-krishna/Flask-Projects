{
 "cells": [
  {
   "cell_type": "markdown",
   "id": "a77bcb16",
   "metadata": {},
   "source": [
    "PROGRAMMING TASK_3"
   ]
  },
  {
   "cell_type": "code",
   "execution_count": null,
   "id": "322465e6",
   "metadata": {},
   "outputs": [],
   "source": [
    "#PROBLEM 1\n",
    "#MAXIMUM PRODUCT OF 2 ELEMENTS IN ARRAY\n",
    "\n",
    "#SOLUTION 1\n",
    "\n",
    "class Solution:\n",
    "    def maxProduct(self, nums: List[int]) -> int:\n",
    "        res=0\n",
    "        for i in range(len(nums)):\n",
    "            for j in range(i+1,len(nums)):\n",
    "                x=(nums[i]-1)*(nums[j]-1)\n",
    "                if x>res:\n",
    "                    res=x\n",
    "        return res\n",
    "    \n",
    "#SOLUTION 2\n",
    "\n",
    "class Solution:\n",
    "    def maxProduct(self, nums: List[int]) -> int:\n",
    "        nums.sort()\n",
    "        return (nums[-1]-1)*(nums[-2]-1)"
   ]
  },
  {
   "cell_type": "code",
   "execution_count": null,
   "id": "6054f817",
   "metadata": {},
   "outputs": [],
   "source": [
    "#PROBLEM 2\n",
    "#COUNT NO OF TEAMS\n",
    "\n",
    "#SOLUTION\n",
    "\n",
    "class Solution:\n",
    "    def numTeams(self, rating: List[int]) -> int:\n",
    "        higher = [0] * len(rating)\n",
    "        lower = [0] * len(rating)\n",
    "        res = 0\n",
    "        \n",
    "        for i in range(len(rating)):\n",
    "            for j in range(i+1, len(rating)):\n",
    "                if rating[j] > rating[i]:\n",
    "                    higher[i] += 1\n",
    "                elif rating[j] < rating[i] :\n",
    "                    lower[i] += 1\n",
    "        \n",
    "        for i in range(len(rating)): \n",
    "            for j in range(i+1, len(rating)): \n",
    "                if rating[j] > rating[i] : \n",
    "                    res += higher[j]\n",
    "                elif rating[j] < rating[i]: \n",
    "                    res += lower[j]\n",
    "        \n",
    "        return res"
   ]
  },
  {
   "cell_type": "code",
   "execution_count": null,
   "id": "6d1c62a3",
   "metadata": {},
   "outputs": [],
   "source": [
    "#PROBLEM 3\n",
    "#NUMBER OF STUDENTS DOING HOMEWORK AT GIVEN TIME\n",
    "\n",
    "#SOLUTION\n",
    "\n",
    "class Solution:\n",
    "    def busyStudent(self, startTime: List[int], endTime: List[int], queryTime: int) -> int:\n",
    "        res=0\n",
    "        for i in range(len(startTime)):\n",
    "            if startTime[i] <= queryTime & queryTime<=endTime[i]:\n",
    "                res+=1\n",
    "        return res"
   ]
  },
  {
   "cell_type": "code",
   "execution_count": null,
   "id": "102766a9",
   "metadata": {},
   "outputs": [],
   "source": [
    "#PROBLEM 4\n",
    "#NUMBER OF STEPS TO REDUCE A NUMBER TO ZERO\n",
    "\n",
    "#SOLUTION\n",
    "\n",
    "class Solution:\n",
    "    def numberOfSteps(self, n: int) -> int:\n",
    "        c=0\n",
    "        while(n>0):\n",
    "            if n%2==0:\n",
    "                n=n//2\n",
    "            else:\n",
    "                n=n-1\n",
    "            c+=1\n",
    "        return c"
   ]
  },
  {
   "cell_type": "code",
   "execution_count": null,
   "id": "ea02ff15",
   "metadata": {},
   "outputs": [],
   "source": [
    "#PROBLEM 5\n",
    "#COUNTING BITS\n",
    "\n",
    "#SOLUTION\n",
    "\n",
    "class Solution:\n",
    "    def countBits(self, n: int) -> List[int]:\n",
    "        res=[]\n",
    "        for i in range(n+1):\n",
    "            res.append(bin(i).count('1'))\n",
    "        return res"
   ]
  }
 ],
 "metadata": {
  "kernelspec": {
   "display_name": "Python 3",
   "language": "python",
   "name": "python3"
  },
  "language_info": {
   "codemirror_mode": {
    "name": "ipython",
    "version": 3
   },
   "file_extension": ".py",
   "mimetype": "text/x-python",
   "name": "python",
   "nbconvert_exporter": "python",
   "pygments_lexer": "ipython3",
   "version": "3.8.8"
  }
 },
 "nbformat": 4,
 "nbformat_minor": 5
}
