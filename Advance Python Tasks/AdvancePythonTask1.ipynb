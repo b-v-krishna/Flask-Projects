{
 "cells": [
  {
   "cell_type": "markdown",
   "id": "6596faae",
   "metadata": {},
   "source": [
    "PROGRAMMING TASK 1"
   ]
  },
  {
   "cell_type": "code",
   "execution_count": null,
   "id": "bb6e9a8d",
   "metadata": {},
   "outputs": [],
   "source": [
    "# task 1 ->problem 1\n",
    "# RETURNING SUM OF 1D ARRAY\n",
    "Input: nums = [1,2,3,4]\n",
    "Output: [1,3,6,10]\n",
    "Explanation: Running sum is obtained as follows: [1, 1+2, 1+2+3, 1+2+3+4].\n",
    "\n",
    "#NAIVE SOLUTION\n",
    "\n",
    "class Solution:\n",
    "    def runningSum(self, nums: List[int]) -> List[int]:\n",
    "        li=[]\n",
    "        s=0\n",
    "        for i in range(len(nums)):\n",
    "            s=sum(nums[:i+1])\n",
    "            li.append(s)\n",
    "        return li\n",
    "    \n",
    "\n",
    "\n",
    "# OPTIMAL SOLUTION\n",
    "\n",
    "class Solution:\n",
    "    def runningSum(self, nums: List[int]) -> List[int]:\n",
    "        Sum=0\n",
    "        res=[]\n",
    "        for i in range(len(nums)):\n",
    "            Sum+=nums[i]\n",
    "            res.append(Sum)\n",
    "        return res"
   ]
  },
  {
   "cell_type": "code",
   "execution_count": null,
   "id": "f68c753d",
   "metadata": {},
   "outputs": [],
   "source": [
    "#PROBLEM 2\n",
    "# Shuffle the array\n",
    "\n",
    "Input: nums = [2,5,1,3,4,7], n = 3\n",
    "Output: [2,3,5,4,1,7] \n",
    "Explanation: Since x1=2, x2=5, x3=1, y1=3, y2=4, y3=7 then the answer is [2,3,5,4,1,7].\n",
    "    \n",
    "#Solution\n",
    "\n",
    "class Solution:\n",
    "    def shuffle(self, nums: List[int], n: int) -> List[int]:\n",
    "        res=[]\n",
    "        for i in range(n):\n",
    "            res.append(nums[i])\n",
    "            res.append(nums[i+n])\n",
    "        return res"
   ]
  },
  {
   "cell_type": "code",
   "execution_count": null,
   "id": "dbc54168",
   "metadata": {},
   "outputs": [],
   "source": [
    "#problem 3\n",
    "\n",
    "#kids with greatest number of candies\n",
    "\n",
    "Input: candies = [2,3,5,1,3], extraCandies = 3\n",
    "Output: [true,true,true,false,true] \n",
    "Explanation: If you give all extraCandies to:\n",
    "- Kid 1, they will have 2 + 3 = 5 candies, which is the greatest among the kids.\n",
    "- Kid 2, they will have 3 + 3 = 6 candies, which is the greatest among the kids.\n",
    "- Kid 3, they will have 5 + 3 = 8 candies, which is the greatest among the kids.\n",
    "- Kid 4, they will have 1 + 3 = 4 candies, which is not the greatest among the kids.\n",
    "- Kid 5, they will have 3 + 3 = 6 candies, which is the greatest among the kids.\n",
    "\n",
    "\n",
    "#solution\n",
    "\n",
    "class Solution:\n",
    "    def kidsWithCandies(self, candies: List[int], extraCandies: int) -> List[bool]:\n",
    "        maximum=max(candies)\n",
    "        res = [False] * len(candies)\n",
    "        for i in range(len(candies)):\n",
    "            if candies[i]+extraCandies >=maximum:\n",
    "                res[i]=True\n",
    "        return res"
   ]
  }
 ],
 "metadata": {
  "kernelspec": {
   "display_name": "Python 3",
   "language": "python",
   "name": "python3"
  },
  "language_info": {
   "codemirror_mode": {
    "name": "ipython",
    "version": 3
   },
   "file_extension": ".py",
   "mimetype": "text/x-python",
   "name": "python",
   "nbconvert_exporter": "python",
   "pygments_lexer": "ipython3",
   "version": "3.8.8"
  }
 },
 "nbformat": 4,
 "nbformat_minor": 5
}
