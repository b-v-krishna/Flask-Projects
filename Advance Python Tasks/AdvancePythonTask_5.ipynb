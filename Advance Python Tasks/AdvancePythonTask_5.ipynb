{
 "cells": [
  {
   "cell_type": "markdown",
   "id": "ad5b036a",
   "metadata": {},
   "source": [
    "PROGRAMMING TASK 5"
   ]
  },
  {
   "cell_type": "code",
   "execution_count": null,
   "id": "77215577",
   "metadata": {},
   "outputs": [],
   "source": [
    "#PROBLEM 1\n",
    "\n",
    "#SUBSETS\n",
    "\n",
    "class Solution:\n",
    "    def subsets(self, nums: List[int]) -> List[List[int]]:\n",
    "        subsets = [[]]\n",
    "        for num in nums:\n",
    "            for i in range(len(subsets)):\n",
    "                currSubset = subsets[i]\n",
    "                subsets.append(currSubset + [num])\n",
    "        return subsets"
   ]
  },
  {
   "cell_type": "code",
   "execution_count": null,
   "id": "dfe0311e",
   "metadata": {},
   "outputs": [],
   "source": [
    "#PROBLEM 2\n",
    "\n",
    "#HAMMING DISTANCE\n",
    "\n",
    "class Solution:\n",
    "    def hammingDistance(self, x: int, y: int) -> int:\n",
    "        res=x^y\n",
    "        count=0\n",
    "        while(res>0):\n",
    "            count+=res&1\n",
    "            res>>=1\n",
    "        return count"
   ]
  },
  {
   "cell_type": "code",
   "execution_count": null,
   "id": "9dd09afc",
   "metadata": {},
   "outputs": [],
   "source": [
    "#PROBLEM 3\n",
    "\n",
    "#SINGLE NUMBER II\n",
    "\n",
    "class Solution:\n",
    "    def singleNumber(self, nums: List[int]) -> int:\n",
    "        d=dict()\n",
    "        for i in nums:\n",
    "            d[i]=d.get(i,0)+1\n",
    "        for k,v in d.items():\n",
    "            if v==1:\n",
    "                return k"
   ]
  },
  {
   "cell_type": "code",
   "execution_count": null,
   "id": "f1154481",
   "metadata": {},
   "outputs": [],
   "source": []
  }
 ],
 "metadata": {
  "kernelspec": {
   "display_name": "Python 3",
   "language": "python",
   "name": "python3"
  },
  "language_info": {
   "codemirror_mode": {
    "name": "ipython",
    "version": 3
   },
   "file_extension": ".py",
   "mimetype": "text/x-python",
   "name": "python",
   "nbconvert_exporter": "python",
   "pygments_lexer": "ipython3",
   "version": "3.8.8"
  }
 },
 "nbformat": 4,
 "nbformat_minor": 5
}
