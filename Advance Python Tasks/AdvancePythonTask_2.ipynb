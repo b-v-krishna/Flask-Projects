{
 "cells": [
  {
   "cell_type": "markdown",
   "id": "ea459c10",
   "metadata": {},
   "source": [
    "PROGRAMMING TASK 2"
   ]
  },
  {
   "cell_type": "code",
   "execution_count": null,
   "id": "a25f057b",
   "metadata": {},
   "outputs": [],
   "source": [
    "#PROBLEM 1\n",
    "\n",
    "#DEFINING AN IP ADRESS\n",
    "Input: address = \"1.1.1.1\"\n",
    "Output: \"1[.]1[.]1[.]1\"\n",
    "\n",
    "#SOLUTION\n",
    "\n",
    "class Solution:\n",
    "    def defangIPaddr(self, address: str) -> str:\n",
    "        x=''\n",
    "        for i in address:\n",
    "            if i==\".\":\n",
    "                x+=\"[.]\"\n",
    "            else:\n",
    "                x+=i\n",
    "        return x"
   ]
  },
  {
   "cell_type": "code",
   "execution_count": null,
   "id": "2826795f",
   "metadata": {},
   "outputs": [],
   "source": [
    "#problem 2\n",
    "#Find numbers with even number of digits\n",
    "\n",
    "Input: nums = [12,345,2,6,7896]\n",
    "Output: 2\n",
    "Explanation: \n",
    "12 contains 2 digits (even number of digits). \n",
    "345 contains 3 digits (odd number of digits). \n",
    "2 contains 1 digit (odd number of digits). \n",
    "6 contains 1 digit (odd number of digits). \n",
    "7896 contains 4 digits (even number of digits). \n",
    "Therefore only 12 and 7896 contain an even number of digits.\n",
    "\n",
    "\n",
    "#solution\n",
    "class Solution:\n",
    "    def findNumbers(self, nums: List[int]) -> int:\n",
    "        count = 0\n",
    "        for i in nums:\n",
    "            if len(str(i)) % 2 == 0:\n",
    "                count += 1\n",
    "        return count"
   ]
  },
  {
   "cell_type": "code",
   "execution_count": null,
   "id": "d4c77390",
   "metadata": {},
   "outputs": [],
   "source": [
    "#problem 3\n",
    "#Number of good pairs\n",
    "\n",
    "Input: nums = [1,2,3,1,1,3]\n",
    "Output: 4\n",
    "Explanation: There are 4 good pairs (0,3), (0,4), (3,4), (2,5) 0-indexed.\n",
    "\n",
    "#solution\n",
    "class Solution:\n",
    "    def numIdenticalPairs(self, nums: List[int]) -> int:\n",
    "        n=len(nums)\n",
    "        c=0\n",
    "        for i in range(n):\n",
    "            for j in range(i+1,n):\n",
    "                if nums[i]==nums[j]:\n",
    "                    c+=1\n",
    "        return c"
   ]
  },
  {
   "cell_type": "code",
   "execution_count": null,
   "id": "8cdd1120",
   "metadata": {},
   "outputs": [],
   "source": [
    "#problem 4\n",
    "#How many numbers are smaller than current number\n",
    "\n",
    "Input: nums = [8,1,2,2,3]\n",
    "Output: [4,0,1,1,3]\n",
    "Explanation: \n",
    "For nums[0]=8 there exist four smaller numbers than it (1, 2, 2 and 3). \n",
    "For nums[1]=1 does not exist any smaller number than it.\n",
    "For nums[2]=2 there exist one smaller number than it (1). \n",
    "For nums[3]=2 there exist one smaller number than it (1). \n",
    "For nums[4]=3 there exist three smaller numbers than it (1, 2 and 2).\n",
    "\n",
    "#solution\n",
    "\n",
    "class Solution:\n",
    "    def smallerNumbersThanCurrent(self, nums: List[int]) -> List[int]:\n",
    "        res=[]\n",
    "        for i in range(len(nums)):\n",
    "            c=0\n",
    "            for j in range(len(nums)):\n",
    "                if nums[i]>nums[j]:\n",
    "                    c+=1\n",
    "            res.append(c)\n",
    "        return res"
   ]
  },
  {
   "cell_type": "code",
   "execution_count": null,
   "id": "ccd64767",
   "metadata": {},
   "outputs": [],
   "source": [
    "#problem 5\n",
    "#Subtract the Product and Sum of Digits of an Integer\n",
    "\n",
    "Input: n = 234\n",
    "Output: 15 \n",
    "Explanation: \n",
    "Product of digits = 2 * 3 * 4 = 24 \n",
    "Sum of digits = 2 + 3 + 4 = 9 \n",
    "Result = 24 - 9 = 15\n",
    "\n",
    "#solution\n",
    "class Solution:\n",
    "    def subtractProductAndSum(self, n: int) -> int:\n",
    "        pro=1\n",
    "        sum=0\n",
    "        while(n>0):\n",
    "            rem=n%10\n",
    "            sum+=rem\n",
    "            pro*=rem\n",
    "            n=n//10\n",
    "        return pro-sum"
   ]
  },
  {
   "cell_type": "code",
   "execution_count": null,
   "id": "b9ee1543",
   "metadata": {},
   "outputs": [],
   "source": [
    "#problem 6\n",
    "#Xor operation in an array\n",
    "\n",
    "Input: n = 5, start = 0\n",
    "Output: 8\n",
    "Explanation: Array nums is equal to [0, 2, 4, 6, 8] where (0 ^ 2 ^ 4 ^ 6 ^ 8) = 8.\n",
    "Where \"^\" corresponds to bitwise XOR operator.\n",
    "\n",
    "#solution\n",
    "class Solution:\n",
    "    def xorOperation(self, n: int, start: int) -> int:\n",
    "        res=[]\n",
    "        ans=0\n",
    "        for i in range(n):\n",
    "            res.append(start+2*i)\n",
    "            ans=ans^res[i]\n",
    "        return ans"
   ]
  }
 ],
 "metadata": {
  "kernelspec": {
   "display_name": "Python 3",
   "language": "python",
   "name": "python3"
  },
  "language_info": {
   "codemirror_mode": {
    "name": "ipython",
    "version": 3
   },
   "file_extension": ".py",
   "mimetype": "text/x-python",
   "name": "python",
   "nbconvert_exporter": "python",
   "pygments_lexer": "ipython3",
   "version": "3.8.8"
  }
 },
 "nbformat": 4,
 "nbformat_minor": 5
}
