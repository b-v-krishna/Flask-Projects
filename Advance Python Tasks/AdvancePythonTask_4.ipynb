{
 "cells": [
  {
   "cell_type": "markdown",
   "id": "df1b1ca9",
   "metadata": {},
   "source": [
    "PROGRAMMING TASK 4"
   ]
  },
  {
   "cell_type": "code",
   "execution_count": null,
   "id": "dc50f05d",
   "metadata": {},
   "outputs": [],
   "source": [
    "#PROBLEM 1\n",
    "\n",
    "#SINGLE NUMBER\n",
    "\n",
    "class Solution:\n",
    "    def singleNumber(self, nums: List[int]) -> int:\n",
    "        x=0\n",
    "        for i in nums:\n",
    "            x=x^i\n",
    "        return x"
   ]
  },
  {
   "cell_type": "code",
   "execution_count": null,
   "id": "ab40c5f2",
   "metadata": {},
   "outputs": [],
   "source": [
    "#PROBLEM 2\n",
    "\n",
    "#SORT THE INTEGERS BY NUMBER OF 1 BITS\n",
    "\n",
    "class Solution:\n",
    "    def sortByBits(self, arr: List[int]) -> List[int]:\n",
    "        d = {}\n",
    "        res = []\n",
    "        for i in arr:\n",
    "            x = bin(i)[2:].count('1')\n",
    "            if x not in d:\n",
    "                d[x] = [i]\n",
    "            else:\n",
    "                d[x].append(i)\n",
    "        for k, v in sorted(d.items()):\n",
    "            res += sorted(v)\n",
    "        return res"
   ]
  },
  {
   "cell_type": "code",
   "execution_count": null,
   "id": "0c7b24e4",
   "metadata": {},
   "outputs": [],
   "source": [
    "#PROBLEM 3\n",
    "\n",
    "#SINGLE NUMBER III\n",
    "\n",
    "class Solution:\n",
    "    def singleNumber(self, nums: List[int]) -> List[int]:\n",
    "        res=[]\n",
    "        d=dict()\n",
    "        for i in nums:\n",
    "            d[i]=d.get(i,0)+1\n",
    "        for k,v in d.items():\n",
    "            if v==1:\n",
    "                res.append(k)\n",
    "        return res"
   ]
  },
  {
   "cell_type": "code",
   "execution_count": null,
   "id": "b37e36a7",
   "metadata": {},
   "outputs": [],
   "source": [
    "#PROBLEM 4\n",
    "\n",
    "#SUBSETS\n",
    "\n",
    "class Solution:\n",
    "    def subsets(self, nums: List[int]) -> List[List[int]]:\n",
    "        subsets = [[]]\n",
    "        for num in nums:\n",
    "            for i in range(len(subsets)):\n",
    "                currSubset = subsets[i]\n",
    "                subsets.append(currSubset + [num])\n",
    "        return subsets"
   ]
  }
 ],
 "metadata": {
  "kernelspec": {
   "display_name": "Python 3",
   "language": "python",
   "name": "python3"
  },
  "language_info": {
   "codemirror_mode": {
    "name": "ipython",
    "version": 3
   },
   "file_extension": ".py",
   "mimetype": "text/x-python",
   "name": "python",
   "nbconvert_exporter": "python",
   "pygments_lexer": "ipython3",
   "version": "3.8.8"
  }
 },
 "nbformat": 4,
 "nbformat_minor": 5
}
